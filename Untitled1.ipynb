{
  "nbformat": 4,
  "nbformat_minor": 0,
  "metadata": {
    "colab": {
      "name": "Untitled1.ipynb",
      "provenance": [],
      "collapsed_sections": []
    },
    "kernelspec": {
      "name": "python3",
      "display_name": "Python 3"
    },
    "language_info": {
      "name": "python"
    }
  },
  "cells": [
    {
      "cell_type": "markdown",
      "metadata": {
        "id": "OM_DfO709fzU"
      },
      "source": [
        "**Read Data From JSON**"
      ]
    },
    {
      "cell_type": "code",
      "metadata": {
        "id": "onzc7YqH7N17"
      },
      "source": [
        "import json\n",
        "fd = open(\"record.json\",'r')\n",
        "r = fd.read()\n",
        "fd.close()\n"
      ],
      "execution_count": 80,
      "outputs": []
    },
    {
      "cell_type": "code",
      "metadata": {
        "colab": {
          "base_uri": "https://localhost:8080/"
        },
        "id": "jFfjYCGb8YGL",
        "outputId": "fdb6ac2d-67e7-4c06-e291-a3a4e7f764c1"
      },
      "source": [
        "record = json.loads(r)\n",
        "record"
      ],
      "execution_count": 81,
      "outputs": [
        {
          "output_type": "execute_result",
          "data": {
            "text/plain": [
              "{'1001': {'name': 'Choco Cake', 'price': 100, 'quantity': 34},\n",
              " '1002': {'name': 'Milk Cake', 'price': 800, 'quantity': 100},\n",
              " '1003': {'name': 'Drink', 'price': 85, 'quantity': 100},\n",
              " '1004': {'name': 'Candy', 'price': 5, 'quantity': 1000},\n",
              " '1005': {'name': 'Pen', 'price': 20, 'quantity': 100},\n",
              " '1006': {'name': 'Phone', 'price': 50000, 'quantity': 10},\n",
              " '1007': {'name': 'Mic', 'price': 1500, 'quantity': 0},\n",
              " '1008': {'name': 'Case', 'price': 599, 'quantity': 5},\n",
              " '1009': {'name': 'Keyboard', 'price': 1999, 'quantity': 10},\n",
              " '2000': {'name': 'notebook', 'price': 599, 'quantity': 5},\n",
              " '2001': {'name': 'pencil', 'price': 9, 'quantity': 5},\n",
              " '2002': {'name': 'mouse', 'price': 899, 'quantity': 13},\n",
              " '2003': {'name': 'chair', 'price': 500, 'quantity': 10},\n",
              " '2004': {'name': 'table', 'price': 871, 'quantity': 6},\n",
              " '2005': {'name': 'wall clock', 'price': 700, 'quantity': 30},\n",
              " '2006': {'name': 'watch', 'price': 1000, 'quantity': 20},\n",
              " '2007': {'name': 'toys', 'price': 70, 'quantity': 25},\n",
              " '2008': {'name': 'keyboard', 'price': 1500, 'quantity': 30},\n",
              " '2009': {'name': 'ear pods', 'price': 2000, 'quantity': 5},\n",
              " '3000': {'name': 'washing machine', 'price': 20000, 'quantity': 30},\n",
              " '3001': {'name': 'laptop', 'price': 55000, 'quantity': 35}}"
            ]
          },
          "metadata": {},
          "execution_count": 81
        }
      ]
    },
    {
      "cell_type": "markdown",
      "metadata": {
        "id": "FgOIBPVPkCwZ"
      },
      "source": [
        "**Add** **New** **Item** **Into**  **Inventory**"
      ]
    },
    {
      "cell_type": "code",
      "metadata": {
        "colab": {
          "base_uri": "https://localhost:8080/"
        },
        "id": "_-vjh2PSXNHR",
        "outputId": "1b45a85e-cc0b-4609-f081-411ee08f2d78"
      },
      "source": [
        "prod_id = str(input(\"Enter product id:\"))\n",
        "name = str(input(\"Enter name:\"))\n",
        "price = int(input(\"Enter price:\"))\n",
        "quantity = int(input(\"Enter quantity:\"))\n",
        "\n",
        "record[prod_id] = {'name': name, 'price': price, 'quantity': quantity}\n",
        "\n",
        "js = json.dumps(record)\n",
        "\n",
        "fd = open(\"record.json\",'w')\n",
        "fd.write(js)\n",
        "fd.close()"
      ],
      "execution_count": 83,
      "outputs": [
        {
          "name": "stdout",
          "output_type": "stream",
          "text": [
            "Enter product id:3002\n",
            "Enter name:cosmetics\n",
            "Enter price:900\n",
            "Enter quantity:5\n"
          ]
        }
      ]
    },
    {
      "cell_type": "code",
      "metadata": {
        "colab": {
          "base_uri": "https://localhost:8080/"
        },
        "id": "-d13lhaMmAzW",
        "outputId": "71425a12-c109-4241-ee2e-6ecc2f543138"
      },
      "source": [
        "record\n"
      ],
      "execution_count": 84,
      "outputs": [
        {
          "output_type": "execute_result",
          "data": {
            "text/plain": [
              "{'1001': {'name': 'Choco Cake', 'price': 100, 'quantity': 34},\n",
              " '1002': {'name': 'Milk Cake', 'price': 800, 'quantity': 100},\n",
              " '1003': {'name': 'Drink', 'price': 85, 'quantity': 100},\n",
              " '1004': {'name': 'Candy', 'price': 5, 'quantity': 1000},\n",
              " '1005': {'name': 'Pen', 'price': 20, 'quantity': 100},\n",
              " '1006': {'name': 'Phone', 'price': 50000, 'quantity': 10},\n",
              " '1007': {'name': 'Mic', 'price': 1500, 'quantity': 0},\n",
              " '1008': {'name': 'Case', 'price': 599, 'quantity': 5},\n",
              " '1009': {'name': 'Keyboard', 'price': 1999, 'quantity': 10},\n",
              " '2000': {'name': 'notebook', 'price': 599, 'quantity': 5},\n",
              " '2001': {'name': 'pencil', 'price': 9, 'quantity': 5},\n",
              " '2002': {'name': 'mouse', 'price': 899, 'quantity': 13},\n",
              " '2003': {'name': 'chair', 'price': 500, 'quantity': 10},\n",
              " '2004': {'name': 'table', 'price': 871, 'quantity': 6},\n",
              " '2005': {'name': 'wall clock', 'price': 700, 'quantity': 30},\n",
              " '2006': {'name': 'watch', 'price': 1000, 'quantity': 20},\n",
              " '2007': {'name': 'toys', 'price': 70, 'quantity': 25},\n",
              " '2008': {'name': 'keyboard', 'price': 1500, 'quantity': 30},\n",
              " '2009': {'name': 'ear pods', 'price': 2000, 'quantity': 5},\n",
              " '3000': {'name': 'washing machine', 'price': 20000, 'quantity': 30},\n",
              " '3001': {'name': 'laptop', 'price': 55000, 'quantity': 35},\n",
              " '3002': {'name': 'cosmetics', 'price': 900, 'quantity': 5}}"
            ]
          },
          "metadata": {},
          "execution_count": 84
        }
      ]
    },
    {
      "cell_type": "markdown",
      "metadata": {
        "id": "BS3Ov0kFmxpi"
      },
      "source": [
        "**Read** **Inventory**"
      ]
    },
    {
      "cell_type": "code",
      "metadata": {
        "id": "jEYRHa9_mvOh"
      },
      "source": [
        "import json\n",
        "\n",
        "fd = open(\"record.json\",'r')\n",
        "r = fd.read()\n",
        "fd.close()\n",
        "\n",
        "records = json.loads(r)"
      ],
      "execution_count": 85,
      "outputs": []
    },
    {
      "cell_type": "code",
      "metadata": {
        "colab": {
          "base_uri": "https://localhost:8080/"
        },
        "id": "47gpci3inSm0",
        "outputId": "4a1a95ce-e3f1-41a7-f2f6-c3ff4f19a097"
      },
      "source": [
        "records"
      ],
      "execution_count": 86,
      "outputs": [
        {
          "output_type": "execute_result",
          "data": {
            "text/plain": [
              "{'1001': {'name': 'Choco Cake', 'price': 100, 'quantity': 34},\n",
              " '1002': {'name': 'Milk Cake', 'price': 800, 'quantity': 100},\n",
              " '1003': {'name': 'Drink', 'price': 85, 'quantity': 100},\n",
              " '1004': {'name': 'Candy', 'price': 5, 'quantity': 1000},\n",
              " '1005': {'name': 'Pen', 'price': 20, 'quantity': 100},\n",
              " '1006': {'name': 'Phone', 'price': 50000, 'quantity': 10},\n",
              " '1007': {'name': 'Mic', 'price': 1500, 'quantity': 0},\n",
              " '1008': {'name': 'Case', 'price': 599, 'quantity': 5},\n",
              " '1009': {'name': 'Keyboard', 'price': 1999, 'quantity': 10},\n",
              " '2000': {'name': 'notebook', 'price': 599, 'quantity': 5},\n",
              " '2001': {'name': 'pencil', 'price': 9, 'quantity': 5},\n",
              " '2002': {'name': 'mouse', 'price': 899, 'quantity': 13},\n",
              " '2003': {'name': 'chair', 'price': 500, 'quantity': 10},\n",
              " '2004': {'name': 'table', 'price': 871, 'quantity': 6},\n",
              " '2005': {'name': 'wall clock', 'price': 700, 'quantity': 30},\n",
              " '2006': {'name': 'watch', 'price': 1000, 'quantity': 20},\n",
              " '2007': {'name': 'toys', 'price': 70, 'quantity': 25},\n",
              " '2008': {'name': 'keyboard', 'price': 1500, 'quantity': 30},\n",
              " '2009': {'name': 'ear pods', 'price': 2000, 'quantity': 5},\n",
              " '3000': {'name': 'washing machine', 'price': 20000, 'quantity': 30},\n",
              " '3001': {'name': 'laptop', 'price': 55000, 'quantity': 35},\n",
              " '3002': {'name': 'cosmetics', 'price': 900, 'quantity': 5}}"
            ]
          },
          "metadata": {},
          "execution_count": 86
        }
      ]
    },
    {
      "cell_type": "markdown",
      "metadata": {
        "id": "5thhLFw8nbW2"
      },
      "source": [
        "**Purchase**"
      ]
    },
    {
      "cell_type": "code",
      "metadata": {
        "colab": {
          "base_uri": "https://localhost:8080/"
        },
        "id": "isS1n_CgnWi_",
        "outputId": "6c35ac92-30b0-4501-d118-fb875de7b6cf"
      },
      "source": [
        "ui_prod  = str(input(\"Enter the product_Id: \"))\n",
        "ui_quant = int(input(\"Enter the quantity: \"))\n",
        "\n",
        "\n",
        "print(\"Product: \", records[ui_prod]['name'])\n",
        "print(\"Price: \", records[ui_prod]['price'])\n",
        "print(\"Billing Amount: \", records[ui_prod]['price'] * ui_quant)\n",
        "\n",
        "records[ui_prod]['quantity'] = records[ui_prod]['quantity'] - ui_quant"
      ],
      "execution_count": 87,
      "outputs": [
        {
          "output_type": "stream",
          "name": "stdout",
          "text": [
            "Enter the product_Id: 2001\n",
            "Enter the quantity: 5\n",
            "Product:  pencil\n",
            "Price:  9\n",
            "Billing Amount:  45\n"
          ]
        }
      ]
    },
    {
      "cell_type": "code",
      "metadata": {
        "colab": {
          "base_uri": "https://localhost:8080/"
        },
        "id": "yr0-TgRkrXHx",
        "outputId": "f14eb002-870f-408b-aec6-7397a554738b"
      },
      "source": [
        "records"
      ],
      "execution_count": 88,
      "outputs": [
        {
          "output_type": "execute_result",
          "data": {
            "text/plain": [
              "{'1001': {'name': 'Choco Cake', 'price': 100, 'quantity': 34},\n",
              " '1002': {'name': 'Milk Cake', 'price': 800, 'quantity': 100},\n",
              " '1003': {'name': 'Drink', 'price': 85, 'quantity': 100},\n",
              " '1004': {'name': 'Candy', 'price': 5, 'quantity': 1000},\n",
              " '1005': {'name': 'Pen', 'price': 20, 'quantity': 100},\n",
              " '1006': {'name': 'Phone', 'price': 50000, 'quantity': 10},\n",
              " '1007': {'name': 'Mic', 'price': 1500, 'quantity': 0},\n",
              " '1008': {'name': 'Case', 'price': 599, 'quantity': 5},\n",
              " '1009': {'name': 'Keyboard', 'price': 1999, 'quantity': 10},\n",
              " '2000': {'name': 'notebook', 'price': 599, 'quantity': 5},\n",
              " '2001': {'name': 'pencil', 'price': 9, 'quantity': 0},\n",
              " '2002': {'name': 'mouse', 'price': 899, 'quantity': 13},\n",
              " '2003': {'name': 'chair', 'price': 500, 'quantity': 10},\n",
              " '2004': {'name': 'table', 'price': 871, 'quantity': 6},\n",
              " '2005': {'name': 'wall clock', 'price': 700, 'quantity': 30},\n",
              " '2006': {'name': 'watch', 'price': 1000, 'quantity': 20},\n",
              " '2007': {'name': 'toys', 'price': 70, 'quantity': 25},\n",
              " '2008': {'name': 'keyboard', 'price': 1500, 'quantity': 30},\n",
              " '2009': {'name': 'ear pods', 'price': 2000, 'quantity': 5},\n",
              " '3000': {'name': 'washing machine', 'price': 20000, 'quantity': 30},\n",
              " '3001': {'name': 'laptop', 'price': 55000, 'quantity': 35},\n",
              " '3002': {'name': 'cosmetics', 'price': 900, 'quantity': 5}}"
            ]
          },
          "metadata": {},
          "execution_count": 88
        }
      ]
    },
    {
      "cell_type": "markdown",
      "metadata": {
        "id": "YQdsRN62oo8q"
      },
      "source": [
        "**Inventory** **Updation** **After** **Purchase**"
      ]
    },
    {
      "cell_type": "code",
      "metadata": {
        "id": "BZLhHUAZo0v7"
      },
      "source": [
        "js = json.dumps(records)\n",
        "\n",
        "fd = open(\"record.json\",'w')\n",
        "fd.write(js)\n",
        "fd.close()"
      ],
      "execution_count": 89,
      "outputs": []
    },
    {
      "cell_type": "markdown",
      "metadata": {
        "id": "-2uhvKu6wPVQ"
      },
      "source": [
        "**Sales** **JSON**"
      ]
    },
    {
      "cell_type": "code",
      "metadata": {
        "colab": {
          "base_uri": "https://localhost:8080/"
        },
        "id": "shvSRn-9vm65",
        "outputId": "5472170d-8834-4bd6-f1d3-bef2377997c0"
      },
      "source": [
        "{'prod' : ui_prod, 'quantity' : ui_quant, 'amount': records[ui_prod]['price'] * ui_quant}"
      ],
      "execution_count": 90,
      "outputs": [
        {
          "output_type": "execute_result",
          "data": {
            "text/plain": [
              "{'amount': 45, 'prod': '2001', 'quantity': 5}"
            ]
          },
          "metadata": {},
          "execution_count": 90
        }
      ]
    },
    {
      "cell_type": "code",
      "metadata": {
        "id": "ZD2UkIfjrrlA"
      },
      "source": [
        "sales = {1 : {'prod' : ui_prod, 'quantity' : ui_quant, 'amount': records[ui_prod]['price'] * ui_quant},\n",
        "         2 : {'prod' : ui_prod, 'quantity' : ui_quant, 'amount': records[ui_prod]['price'] * ui_quant},\n",
        "         3 : {'prod' : ui_prod, 'quantity' : ui_quant, 'amount': records[ui_prod]['price'] * ui_quant}}"
      ],
      "execution_count": 91,
      "outputs": []
    },
    {
      "cell_type": "code",
      "metadata": {
        "colab": {
          "base_uri": "https://localhost:8080/",
          "height": 52
        },
        "id": "ADepf0V9wzRn",
        "outputId": "2d7806c3-8c61-4d80-809f-888ac0a16c9a"
      },
      "source": [
        "sale = json.dumps(sales)\n",
        "sale\n"
      ],
      "execution_count": 92,
      "outputs": [
        {
          "output_type": "execute_result",
          "data": {
            "application/vnd.google.colaboratory.intrinsic+json": {
              "type": "string"
            },
            "text/plain": [
              "'{\"1\": {\"prod\": \"2001\", \"quantity\": 5, \"amount\": 45}, \"2\": {\"prod\": \"2001\", \"quantity\": 5, \"amount\": 45}, \"3\": {\"prod\": \"2001\", \"quantity\": 5, \"amount\": 45}}'"
            ]
          },
          "metadata": {},
          "execution_count": 92
        }
      ]
    },
    {
      "cell_type": "code",
      "metadata": {
        "id": "CaMhKM9vxQ3n"
      },
      "source": [
        "fd = open(\"record.json\",'r')\n",
        "r = fd.read()\n",
        "fd.close() "
      ],
      "execution_count": 93,
      "outputs": []
    },
    {
      "cell_type": "code",
      "metadata": {
        "colab": {
          "base_uri": "https://localhost:8080/"
        },
        "id": "4Epy6VQMxq8N",
        "outputId": "1e5c1000-1ccb-4e03-c6bd-7f4ebb05274f"
      },
      "source": [
        "{(len(sales) + 1) : {'prod' : ui_prod, 'quantity' : ui_quant, 'amount': records[ui_prod]['price'] * ui_quant}}\n"
      ],
      "execution_count": 94,
      "outputs": [
        {
          "output_type": "execute_result",
          "data": {
            "text/plain": [
              "{4: {'amount': 45, 'prod': '2001', 'quantity': 5}}"
            ]
          },
          "metadata": {},
          "execution_count": 94
        }
      ]
    },
    {
      "cell_type": "code",
      "metadata": {
        "id": "K4iahhtRylf5"
      },
      "source": [
        "sales[(len(sales) + 1)] : {'prod' : ui_prod, 'quantity' : ui_quant, 'amount': records[ui_prod]['price'] * ui_quant}\n"
      ],
      "execution_count": 95,
      "outputs": []
    },
    {
      "cell_type": "code",
      "metadata": {
        "colab": {
          "base_uri": "https://localhost:8080/"
        },
        "id": "PdugDfkVy3YD",
        "outputId": "5ea814ee-ba63-4069-b7a6-05899e989549"
      },
      "source": [
        "sales"
      ],
      "execution_count": 96,
      "outputs": [
        {
          "output_type": "execute_result",
          "data": {
            "text/plain": [
              "{1: {'amount': 45, 'prod': '2001', 'quantity': 5},\n",
              " 2: {'amount': 45, 'prod': '2001', 'quantity': 5},\n",
              " 3: {'amount': 45, 'prod': '2001', 'quantity': 5}}"
            ]
          },
          "metadata": {},
          "execution_count": 96
        }
      ]
    },
    {
      "cell_type": "code",
      "metadata": {
        "id": "WRGib_hr07LM"
      },
      "source": [
        "fd = open(\"sales.json\",'w')\n",
        "r = fd.write(sale)\n",
        "fd.close()"
      ],
      "execution_count": 97,
      "outputs": []
    }
  ]
}